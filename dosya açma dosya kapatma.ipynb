{
 "cells": [
  {
   "cell_type": "code",
   "execution_count": null,
   "id": "0ce19b43",
   "metadata": {},
   "outputs": [],
   "source": [
    "open(\"veri set.txt\",\"w\")"
   ]
  },
  {
   "cell_type": "code",
   "execution_count": null,
   "id": "d34345ab",
   "metadata": {},
   "outputs": [],
   "source": [
    "file=open(\"D://bilgiler.txt\",\"w\")"
   ]
  },
  {
   "cell_type": "code",
   "execution_count": null,
   "id": "71ccead3",
   "metadata": {},
   "outputs": [],
   "source": [
    "file.write(\"merhaba pınarhisar\")"
   ]
  },
  {
   "cell_type": "code",
   "execution_count": null,
   "id": "b1cb1b8b",
   "metadata": {},
   "outputs": [],
   "source": [
    "file=open(\"D://elif.txt\",\"w\",encoding=\"utf-8\")"
   ]
  },
  {
   "cell_type": "code",
   "execution_count": null,
   "id": "995a838b",
   "metadata": {},
   "outputs": [],
   "source": [
    "file.write(\"Merhaba Pınarhisar\")"
   ]
  },
  {
   "cell_type": "code",
   "execution_count": 6,
   "id": "8a677171",
   "metadata": {},
   "outputs": [
    {
     "name": "stdout",
     "output_type": "stream",
     "text": [
      "merhaba pınarhisar\n",
      "\n",
      "hoş geldiniz\n",
      "\n",
      "ne güzel şehirsin\n"
     ]
    },
    {
     "data": {
      "text/plain": [
       "[]"
      ]
     },
     "execution_count": 6,
     "metadata": {},
     "output_type": "execute_result"
    }
   ],
   "source": [
    "file=open(\"D://bilgiler.txt\", \"r\")\n",
    "for i in file:\n",
    "    print(i)\n",
    "file.readlines()"
   ]
  },
  {
   "cell_type": "code",
   "execution_count": 5,
   "id": "1ac72205",
   "metadata": {},
   "outputs": [
    {
     "data": {
      "text/plain": [
       "[]"
      ]
     },
     "execution_count": 5,
     "metadata": {},
     "output_type": "execute_result"
    }
   ],
   "source": [
    "file.readlines()"
   ]
  },
  {
   "cell_type": "code",
   "execution_count": null,
   "id": "963fc117",
   "metadata": {},
   "outputs": [],
   "source": []
  },
  {
   "cell_type": "code",
   "execution_count": null,
   "id": "13d8404f",
   "metadata": {},
   "outputs": [],
   "source": []
  }
 ],
 "metadata": {
  "kernelspec": {
   "display_name": "Python 3 (ipykernel)",
   "language": "python",
   "name": "python3"
  },
  "language_info": {
   "codemirror_mode": {
    "name": "ipython",
    "version": 3
   },
   "file_extension": ".py",
   "mimetype": "text/x-python",
   "name": "python",
   "nbconvert_exporter": "python",
   "pygments_lexer": "ipython3",
   "version": "3.9.13"
  }
 },
 "nbformat": 4,
 "nbformat_minor": 5
}
