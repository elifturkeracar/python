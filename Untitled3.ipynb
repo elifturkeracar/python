{
 "cells": [
  {
   "cell_type": "code",
   "execution_count": 6,
   "id": "83416418",
   "metadata": {},
   "outputs": [
    {
     "name": "stdout",
     "output_type": "stream",
     "text": [
      "kilonuzu girin55\n",
      "sağlıklı\n"
     ]
    }
   ],
   "source": [
    "kilo=int(input(\"kilonuzu girin\"))\n",
    "if kilo>100:\n",
    "    print(\"sağlığın için tehlikeli\")\n",
    "elif kilo>70:\n",
    "    print(\"spor yaparsan iyi olacak\")\n",
    "elif kilo>50:\n",
    "    print(\"sağlıklı\")\n",
    "else:\n",
    "    print(\"çok zayıfsın\")"
   ]
  },
  {
   "cell_type": "code",
   "execution_count": null,
   "id": "d1dbe2e7",
   "metadata": {},
   "outputs": [],
   "source": []
  }
 ],
 "metadata": {
  "kernelspec": {
   "display_name": "Python 3 (ipykernel)",
   "language": "python",
   "name": "python3"
  },
  "language_info": {
   "codemirror_mode": {
    "name": "ipython",
    "version": 3
   },
   "file_extension": ".py",
   "mimetype": "text/x-python",
   "name": "python",
   "nbconvert_exporter": "python",
   "pygments_lexer": "ipython3",
   "version": "3.9.13"
  }
 },
 "nbformat": 4,
 "nbformat_minor": 5
}
