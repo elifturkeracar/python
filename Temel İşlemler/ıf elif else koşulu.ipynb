{
 "cells": [
  {
   "cell_type": "code",
   "execution_count": 4,
   "id": "ad1b80c4",
   "metadata": {},
   "outputs": [
    {
     "name": "stdout",
     "output_type": "stream",
     "text": [
      "bir mevsim giriniz.sonbahar\n",
      "sonbahar ayları: eylül ekim kasım\n"
     ]
    }
   ],
   "source": [
    "mevsim=str(input(\"bir mevsim giriniz.\"))\n",
    "if mevsim==\"kış\":\n",
    "    print(\"kış ayları: aralık ocak şubat\")\n",
    "elif mevsim==\"yaz\":\n",
    "    print(\"yaz ayları: haziran temmuz ağustos\")\n",
    "elif mevsim==\"ilkbahar\":\n",
    "    print(\"ilkbahar ayları: mart nisan mayıs\")\n",
    "elif mevsim==\"sonbahar\":\n",
    "    print(\"sonbahar ayları: eylül ekim kasım\")\n",
    "else:\n",
    "    print(\"mevsim adı yanlış girildi.\")\n",
    "    "
   ]
  },
  {
   "cell_type": "code",
   "execution_count": null,
   "id": "cd1c7c3a",
   "metadata": {},
   "outputs": [],
   "source": []
  }
 ],
 "metadata": {
  "kernelspec": {
   "display_name": "Python 3 (ipykernel)",
   "language": "python",
   "name": "python3"
  },
  "language_info": {
   "codemirror_mode": {
    "name": "ipython",
    "version": 3
   },
   "file_extension": ".py",
   "mimetype": "text/x-python",
   "name": "python",
   "nbconvert_exporter": "python",
   "pygments_lexer": "ipython3",
   "version": "3.9.13"
  }
 },
 "nbformat": 4,
 "nbformat_minor": 5
}
