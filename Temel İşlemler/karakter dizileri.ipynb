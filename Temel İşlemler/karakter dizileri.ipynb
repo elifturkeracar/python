{
 "cells": [
  {
   "cell_type": "code",
   "execution_count": 2,
   "id": "20e54531",
   "metadata": {},
   "outputs": [
    {
     "data": {
      "text/plain": [
       "'i'"
      ]
     },
     "execution_count": 2,
     "metadata": {},
     "output_type": "execute_result"
    }
   ],
   "source": [
    "a=\"elif\"\n",
    "a[2]"
   ]
  },
  {
   "cell_type": "code",
   "execution_count": 3,
   "id": "e840ca06",
   "metadata": {},
   "outputs": [
    {
     "data": {
      "text/plain": [
       "'a'"
      ]
     },
     "execution_count": 3,
     "metadata": {},
     "output_type": "execute_result"
    }
   ],
   "source": [
    "b=\"mustafa\"\n",
    "b[4]"
   ]
  },
  {
   "cell_type": "code",
   "execution_count": 4,
   "id": "5f9ae515",
   "metadata": {},
   "outputs": [
    {
     "data": {
      "text/plain": [
       "'günlerden salı'"
      ]
     },
     "execution_count": 4,
     "metadata": {},
     "output_type": "execute_result"
    }
   ],
   "source": [
    "c=\"bugün günlerden salı\"\n",
    "c[6:]"
   ]
  },
  {
   "cell_type": "code",
   "execution_count": null,
   "id": "26a2ddc1",
   "metadata": {},
   "outputs": [],
   "source": []
  }
 ],
 "metadata": {
  "kernelspec": {
   "display_name": "Python 3 (ipykernel)",
   "language": "python",
   "name": "python3"
  },
  "language_info": {
   "codemirror_mode": {
    "name": "ipython",
    "version": 3
   },
   "file_extension": ".py",
   "mimetype": "text/x-python",
   "name": "python",
   "nbconvert_exporter": "python",
   "pygments_lexer": "ipython3",
   "version": "3.9.13"
  }
 },
 "nbformat": 4,
 "nbformat_minor": 5
}
