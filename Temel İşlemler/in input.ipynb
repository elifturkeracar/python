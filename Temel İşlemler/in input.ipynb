{
 "cells": [
  {
   "cell_type": "code",
   "execution_count": 2,
   "id": "87fdf44c",
   "metadata": {},
   "outputs": [
    {
     "name": "stdout",
     "output_type": "stream",
     "text": [
      "Lütfen bir sayı giriniz:51\n"
     ]
    },
    {
     "data": {
      "text/plain": [
       "'51'"
      ]
     },
     "execution_count": 2,
     "metadata": {},
     "output_type": "execute_result"
    }
   ],
   "source": [
    "input(\"Lütfen bir sayı giriniz:\")"
   ]
  },
  {
   "cell_type": "code",
   "execution_count": 3,
   "id": "47969311",
   "metadata": {},
   "outputs": [
    {
     "name": "stdout",
     "output_type": "stream",
     "text": [
      "Lütfen bir sayı giriniz:30\n",
      "kullanıcının girdiği değer: 30\n"
     ]
    }
   ],
   "source": [
    "a=input (\"Lütfen bir sayı giriniz:\")\n",
    "print(\"kullanıcının girdiği değer:\",a)"
   ]
  },
  {
   "cell_type": "code",
   "execution_count": 4,
   "id": "7d579793",
   "metadata": {},
   "outputs": [
    {
     "name": "stdout",
     "output_type": "stream",
     "text": [
      "1.vize notu:75\n",
      "2.vize notu:85\n",
      "final notu:80\n",
      "Sınav puanları toplamı: 240\n",
      "Sınav ortalamanız: 80.0\n"
     ]
    }
   ],
   "source": [
    "a=int(input(\"1.vize notu:\"))\n",
    "b=int(input(\"2.vize notu:\"))\n",
    "c=int(input(\"final notu:\"))\n",
    "print(\"Sınav puanları toplamı:\",a+b+c)\n",
    "print(\"Sınav ortalamanız:\",(a+b+c)/3)"
   ]
  },
  {
   "cell_type": "code",
   "execution_count": null,
   "id": "a41f5474",
   "metadata": {},
   "outputs": [],
   "source": []
  }
 ],
 "metadata": {
  "kernelspec": {
   "display_name": "Python 3 (ipykernel)",
   "language": "python",
   "name": "python3"
  },
  "language_info": {
   "codemirror_mode": {
    "name": "ipython",
    "version": 3
   },
   "file_extension": ".py",
   "mimetype": "text/x-python",
   "name": "python",
   "nbconvert_exporter": "python",
   "pygments_lexer": "ipython3",
   "version": "3.9.13"
  }
 },
 "nbformat": 4,
 "nbformat_minor": 5
}
