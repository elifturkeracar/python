{
 "cells": [
  {
   "cell_type": "code",
   "execution_count": 1,
   "id": "197bd5ea",
   "metadata": {},
   "outputs": [
    {
     "name": "stdout",
     "output_type": "stream",
     "text": [
      "[ 6. 40. 31. 45.]\n"
     ]
    }
   ],
   "source": [
    "import numpy as np\n",
    "vize=[10,20,30,40]\n",
    "final=[2,60,32,50]\n",
    "\n",
    "vize_np=np.array(vize)\n",
    "final_np=np.array(final)\n",
    "\n",
    "ortalama=(vize_np+final_np)/2\n",
    "print(ortalama)"
   ]
  },
  {
   "cell_type": "code",
   "execution_count": 2,
   "id": "2e05dabc",
   "metadata": {},
   "outputs": [
    {
     "name": "stdout",
     "output_type": "stream",
     "text": [
      "[[1 2 3]\n",
      " [4 5 6]]\n"
     ]
    }
   ],
   "source": [
    "import numpy as np\n",
    "\n",
    "\n",
    "my_array=np.array([[1,2,3],[4,5,6]])\n",
    "\n",
    "print(my_array)"
   ]
  },
  {
   "cell_type": "code",
   "execution_count": 3,
   "id": "7dfd47e5",
   "metadata": {},
   "outputs": [
    {
     "name": "stdout",
     "output_type": "stream",
     "text": [
      "[[1 2 3]\n",
      " [4 5 6]\n",
      " [7 8 9]]\n"
     ]
    }
   ],
   "source": [
    "import numpy as np\n",
    "\n",
    "my_array=np.array([[1,2,3,],[4,5,6],[7,8,9]])\n",
    "\n",
    "\n",
    "print(my_array)\n"
   ]
  },
  {
   "cell_type": "code",
   "execution_count": 4,
   "id": "5194a008",
   "metadata": {},
   "outputs": [
    {
     "name": "stdout",
     "output_type": "stream",
     "text": [
      "8\n"
     ]
    }
   ],
   "source": [
    "import numpy as np\n",
    "\n",
    "arr=np.array([1,2,3,4,5,6,7,8])\n",
    "max_value=np.amax(arr)\n",
    "print(max_value)"
   ]
  },
  {
   "cell_type": "code",
   "execution_count": 5,
   "id": "9e8e1c48",
   "metadata": {},
   "outputs": [
    {
     "name": "stdout",
     "output_type": "stream",
     "text": [
      "8\n"
     ]
    }
   ],
   "source": [
    "import numpy as np\n",
    "arr=np.array([1,2,3,4,5,6,7,8])\n",
    "max_value=np.amax(arr)\n",
    "print(max_value)"
   ]
  },
  {
   "cell_type": "code",
   "execution_count": 6,
   "id": "52b80953",
   "metadata": {},
   "outputs": [
    {
     "name": "stdout",
     "output_type": "stream",
     "text": [
      "[ 4  8 12]\n"
     ]
    }
   ],
   "source": [
    "import numpy as np\n",
    "arr=np.array([[1,2,3,4],[5,6,7,8],[9,10,11,12]])\n",
    "max_values=np.amax(arr,axis=1)\n",
    "print(max_values)\n",
    "\n"
   ]
  },
  {
   "cell_type": "code",
   "execution_count": 7,
   "id": "904623ce",
   "metadata": {},
   "outputs": [
    {
     "name": "stdout",
     "output_type": "stream",
     "text": [
      "[ 9 10 11 12]\n"
     ]
    }
   ],
   "source": [
    "import numpy as np\n",
    "arr=np.array([[1,2,3,4],[5,6,7,8],[9,10,11,12]])\n",
    "max_values=np.amax(arr,axis=0)\n",
    "print(max_values)"
   ]
  },
  {
   "cell_type": "code",
   "execution_count": 9,
   "id": "f88e11f4",
   "metadata": {},
   "outputs": [
    {
     "name": "stdout",
     "output_type": "stream",
     "text": [
      "[[ 4]\n",
      " [ 8]\n",
      " [12]]\n"
     ]
    }
   ],
   "source": [
    "import numpy as np\n",
    "arr=np.array([[1,2,3,4],[5,6,7,8],[9,10,11,12]])\n",
    "max_values=np.amax(arr,axis=1, keepdims=True)\n",
    "print(max_values)"
   ]
  },
  {
   "cell_type": "code",
   "execution_count": 10,
   "id": "e3d7b5c8",
   "metadata": {},
   "outputs": [
    {
     "name": "stdout",
     "output_type": "stream",
     "text": [
      "8\n"
     ]
    }
   ],
   "source": [
    "import numpy as np\n",
    "arr=np.array([1,2,3,4,5,6,7,8])\n",
    "max_value=np.amax(arr,initial=0)\n",
    "print(max_value)\n",
    "\n"
   ]
  },
  {
   "cell_type": "code",
   "execution_count": 11,
   "id": "25ccf357",
   "metadata": {},
   "outputs": [
    {
     "name": "stdout",
     "output_type": "stream",
     "text": [
      "0    1\n",
      "1    2\n",
      "2    3\n",
      "3    4\n",
      "4    5\n",
      "dtype: int64\n"
     ]
    }
   ],
   "source": [
    "import pandas as pd\n",
    "my_list=[1,2,3,4,5]\n",
    "my_series=pd.Series(my_list)\n",
    "print(my_series)"
   ]
  },
  {
   "cell_type": "code",
   "execution_count": 12,
   "id": "c6f125b3",
   "metadata": {},
   "outputs": [
    {
     "name": "stdout",
     "output_type": "stream",
     "text": [
      "      name  age\n",
      "0     elif   34\n",
      "1  mustafa   38\n",
      "2    zehra    7\n",
      "3    beyza    4\n"
     ]
    }
   ],
   "source": [
    "import pandas as pd\n",
    "my_dict={'name':['elif','mustafa','zehra','beyza'], 'age':[34,38,7,4]}\n",
    "my_dataframe=pd.DataFrame(my_dict)\n",
    "print(my_dataframe)"
   ]
  },
  {
   "cell_type": "code",
   "execution_count": null,
   "id": "f9c5ace4",
   "metadata": {},
   "outputs": [],
   "source": []
  }
 ],
 "metadata": {
  "kernelspec": {
   "display_name": "Python 3 (ipykernel)",
   "language": "python",
   "name": "python3"
  },
  "language_info": {
   "codemirror_mode": {
    "name": "ipython",
    "version": 3
   },
   "file_extension": ".py",
   "mimetype": "text/x-python",
   "name": "python",
   "nbconvert_exporter": "python",
   "pygments_lexer": "ipython3",
   "version": "3.9.13"
  }
 },
 "nbformat": 4,
 "nbformat_minor": 5
}
